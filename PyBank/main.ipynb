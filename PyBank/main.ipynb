{
 "cells": [
  {
   "cell_type": "code",
   "execution_count": 44,
   "id": "2978c26f-753a-4506-a107-c0f69a5e414e",
   "metadata": {},
   "outputs": [
    {
     "name": "stdout",
     "output_type": "stream",
     "text": [
      "Financial Analysis\n",
      "--------------------------------\n",
      "Total Months: 86\n",
      "Total: $22564198\n",
      "Average Change: $-8311.11\n",
      "Greatest Increase in Profits: Aug-16 ($1862002)\n",
      "Greatest Decrease in Profits: Feb-14 ($-1825558)\n",
      "\n"
     ]
    }
   ],
   "source": [
    "#Dependencies\n",
    "import os\n",
    "import csv\n",
    "\n",
    "rowcount = 0\n",
    "total = 0\n",
    "previous_value = None\n",
    "changes = []\n",
    "max_increase = 0\n",
    "max_increase_month = \"\"\n",
    "max_decrease = 999999\n",
    "max_decrease_month = \"\"\n",
    "\n",
    "#loading file\n",
    "csvpath = os.path.join('.','Resources','budget_data.csv')\n",
    "\n",
    "output_file = os.path.join('.',\"Budget_Analysis.txt\")\n",
    "\n",
    "with open(csvpath, encoding='utf') as budget_csv:\n",
    "    csvreader = csv.reader(budget_csv, delimiter=\",\")\n",
    "\n",
    "    #setting header line\n",
    "    header = next(budget_csv)\n",
    "\n",
    "    # calculations\n",
    "    for row in csvreader: \n",
    "        rowcount += 1\n",
    "        total += int(row[1]) \n",
    "        current_value = int(row[1])\n",
    "        \n",
    "\n",
    "        if previous_value is not None:\n",
    "            change = current_value - previous_value\n",
    "            changes.append(change)\n",
    "\n",
    "            if change > max_increase:\n",
    "                max_increase = change\n",
    "                max_increase_month = row[0]\n",
    "\n",
    "            if change < max_decrease:\n",
    "                max_decrease = change\n",
    "                max_decrease_month = row [0]\n",
    "                \n",
    "        previous_value = current_value\n",
    "\n",
    "average_change = sum(changes) / len(changes) if changes else 0\n",
    "\n",
    "        \n",
    "\n",
    "\n",
    "#analysis\n",
    "output = (\n",
    "    f\"Financial Analysis\\n\"\n",
    "    f\"--------------------------------\\n\"\n",
    "    f\"Total Months: {rowcount}\\n\"\n",
    "    f\"Total: ${total}\\n\"\n",
    "    f\"Average Change: ${average_change:.2f}\\n\"\n",
    "    f\"Greatest Increase in Profits: {max_increase_month} (${max_increase})\\n\"\n",
    "    f\"Greatest Decrease in Profits: {max_decrease_month} (${max_decrease})\\n\"\n",
    ")\n",
    "\n",
    "print(output)\n",
    "\n",
    "with open(output_file, 'w') as file:\n",
    "    file.write(output)"
   ]
  },
  {
   "cell_type": "code",
   "execution_count": null,
   "id": "c03b8829-7372-432b-8d2d-d445726ee5fe",
   "metadata": {},
   "outputs": [],
   "source": []
  }
 ],
 "metadata": {
  "kernelspec": {
   "display_name": "Python 3 (ipykernel)",
   "language": "python",
   "name": "python3"
  },
  "language_info": {
   "codemirror_mode": {
    "name": "ipython",
    "version": 3
   },
   "file_extension": ".py",
   "mimetype": "text/x-python",
   "name": "python",
   "nbconvert_exporter": "python",
   "pygments_lexer": "ipython3",
   "version": "3.11.7"
  }
 },
 "nbformat": 4,
 "nbformat_minor": 5
}
