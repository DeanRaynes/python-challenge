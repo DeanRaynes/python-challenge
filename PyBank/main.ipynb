{
 "cells": [
  {
   "cell_type": "code",
   "execution_count": 6,
   "id": "2978c26f-753a-4506-a107-c0f69a5e414e",
   "metadata": {},
   "outputs": [
    {
     "name": "stdout",
     "output_type": "stream",
     "text": [
      "Financial Analysis\n",
      "--------------------------------\n",
      "Total Months: 87\n"
     ]
    }
   ],
   "source": [
    "import os\n",
    "import csv\n",
    "\n",
    "csvpath = os.path.join('.','Resources','budget_data.csv')\n",
    "\n",
    "with open(csvpath, encoding='utf') as budget_csv:\n",
    "    csvreader = csv.reader(budget_csv, delimiter=\",\")\n",
    "\n",
    "    rowcount = sum(1 for row in csvreader)\n",
    "\n",
    "\n",
    "print(\"Financial Analysis\")\n",
    "print(\"--------------------------------\")\n",
    "\n",
    "print(\"Total Months:\", rowcount)"
   ]
  },
  {
   "cell_type": "code",
   "execution_count": null,
   "id": "c03b8829-7372-432b-8d2d-d445726ee5fe",
   "metadata": {},
   "outputs": [],
   "source": []
  }
 ],
 "metadata": {
  "kernelspec": {
   "display_name": "Python 3 (ipykernel)",
   "language": "python",
   "name": "python3"
  },
  "language_info": {
   "codemirror_mode": {
    "name": "ipython",
    "version": 3
   },
   "file_extension": ".py",
   "mimetype": "text/x-python",
   "name": "python",
   "nbconvert_exporter": "python",
   "pygments_lexer": "ipython3",
   "version": "3.11.7"
  }
 },
 "nbformat": 4,
 "nbformat_minor": 5
}
