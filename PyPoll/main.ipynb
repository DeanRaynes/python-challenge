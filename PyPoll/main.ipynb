{
 "cells": [
  {
   "cell_type": "code",
   "execution_count": null,
   "id": "8001585e-88c8-4476-b947-b8ff4d0326b2",
   "metadata": {},
   "outputs": [],
   "source": []
  },
  {
   "cell_type": "code",
   "execution_count": 19,
   "id": "ddce26f2-1f90-4c31-b7ff-0fcbefae7dad",
   "metadata": {},
   "outputs": [
    {
     "name": "stdout",
     "output_type": "stream",
     "text": [
      "Election Results\n",
      "-----------------------\n",
      "Total Votes: 369711\n",
      "-----------------------\n",
      "Charles Casper Stockham: 23.049% (85213)\n",
      "Diana DeGette: 73.812% (272892)\n",
      "Raymon Anthony Doane: 3.139% (11606)\n",
      "-----------------------\n",
      "Winner: Diana DeGette\n",
      "-----------------------\n",
      "\n"
     ]
    }
   ],
   "source": [
    "import os\n",
    "import csv\n",
    "\n",
    "rowcount = 0\n",
    "votes = {}\n",
    "\n",
    "csvpath = os.path.join('.','Resources','election_data.csv')\n",
    "\n",
    "output_file = os.path.join('.','Analysis','Election_Results.txt')\n",
    "\n",
    "with open(csvpath, encoding='utf') as election_csv:\n",
    "    csvreader = csv.reader(election_csv, delimiter=',')\n",
    "\n",
    "    header = next(election_csv)\n",
    "\n",
    "\n",
    "    for row in csvreader:\n",
    "        rowcount+= 1 \n",
    "        candidate = row[2]\n",
    "        if candidate in votes:\n",
    "            votes[candidate] += 1\n",
    "        else:\n",
    "            votes[candidate] = 1\n",
    "\n",
    "winner = max(votes, key=votes.get)\n",
    "\n",
    "\n",
    "output = (\n",
    "    f\"Election Results\\n\"\n",
    "    f\"-----------------------\\n\"\n",
    "    f\"Total Votes: {rowcount}\\n\"\n",
    "    f\"-----------------------\\n\"\n",
    ")\n",
    "for candidate, vote_count in votes.items():\n",
    "    percentage = vote_count / rowcount * 100\n",
    "    output += f\"{candidate}: {percentage:.3f}% ({vote_count})\\n\"\n",
    "\n",
    "output += (\n",
    "    f\"-----------------------\\n\"\n",
    "    f\"Winner: {winner}\\n\"\n",
    "    f\"-----------------------\\n\"\n",
    ")\n",
    "\n",
    "print(output)\n",
    "\n",
    "with open(output_file, 'w') as file:\n",
    "    file.write(output)"
   ]
  },
  {
   "cell_type": "code",
   "execution_count": null,
   "id": "005abaa7-2d2a-4269-b26a-1869616afafb",
   "metadata": {},
   "outputs": [],
   "source": []
  }
 ],
 "metadata": {
  "kernelspec": {
   "display_name": "Python 3 (ipykernel)",
   "language": "python",
   "name": "python3"
  },
  "language_info": {
   "codemirror_mode": {
    "name": "ipython",
    "version": 3
   },
   "file_extension": ".py",
   "mimetype": "text/x-python",
   "name": "python",
   "nbconvert_exporter": "python",
   "pygments_lexer": "ipython3",
   "version": "3.11.7"
  }
 },
 "nbformat": 4,
 "nbformat_minor": 5
}
